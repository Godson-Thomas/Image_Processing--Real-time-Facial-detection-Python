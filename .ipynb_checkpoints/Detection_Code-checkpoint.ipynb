{
 "cells": [
  {
   "cell_type": "code",
   "execution_count": 10,
   "metadata": {},
   "outputs": [],
   "source": [
    "import cv2\n",
    "import time\n"
   ]
  },
  {
   "cell_type": "code",
   "execution_count": 11,
   "metadata": {},
   "outputs": [],
   "source": [
    "face_cascade1=cv2.CascadeClassifier(\"/CV_FACE_VIDEO/haarcascade_frontalface_default.xml\")\n",
    "face_cascade2=cv2.CascadeClassifier(\"/CV_FACE_VIDEO/haarcascade_eye.xml\")\n",
    "face_cascade3=cv2.CascadeClassifier(\"/CV_FACE_VIDEO/haarcascade_mcs_mouth.xml\")\n",
    "face_cascade4=cv2.CascadeClassifier(\"/CV_FACE_VIDEO/haarcascade_mcs_nose.xml\")"
   ]
  },
  {
   "cell_type": "code",
   "execution_count": 14,
   "metadata": {},
   "outputs": [],
   "source": [
    "video=cv2.VideoCapture(0)\n"
   ]
  },
  {
   "cell_type": "code",
   "execution_count": 15,
   "metadata": {},
   "outputs": [],
   "source": [
    "a=1\n",
    "\n",
    "while True:\n",
    "    \n",
    "    \n",
    "    check,img = video.read(0)\n",
    "\n",
    "    gray = cv2.cvtColor(img,cv2.COLOR_BGR2GRAY)\n",
    "    \n",
    "    faces1 = face_cascade1.detectMultiScale(\n",
    "        gray,\n",
    "\n",
    "        scaleFactor=1.07,\n",
    "        minNeighbors=4,                                         #Face\n",
    "        minSize=(30, 30)\n",
    "                )\n",
    "    faces2 = face_cascade2.detectMultiScale(\n",
    "        gray,\n",
    "\n",
    "        scaleFactor=1.07,\n",
    "        minNeighbors=5,                                         #Eyes\n",
    "        minSize=(30, 30)\n",
    "                )\n",
    "    faces3 = face_cascade3.detectMultiScale(\n",
    "        gray,\n",
    "\n",
    "        scaleFactor=1.03,\n",
    "        minNeighbors=4,                                         #Mouth\n",
    "        minSize=(30, 30)\n",
    "                )\n",
    "    faces4 = face_cascade4.detectMultiScale(\n",
    "        gray,\n",
    "\n",
    "        scaleFactor=1.06,\n",
    "        minNeighbors=3,                                         #Nose\n",
    "        minSize=(30, 30)\n",
    "                )\n",
    "\n",
    "    for (x ,y ,w ,h) in faces1:\n",
    "        cv2.rectangle(img ,(x ,y) ,( x +w , y +h) ,(255 ,28 ,0) ,3)\n",
    "    \n",
    "    for (x ,y ,w ,h) in faces2:\n",
    "        cv2.rectangle(img ,(x ,y) ,( x +w , y +h) ,(255 ,255,0) ,3)\n",
    "    for (x ,y ,w ,h) in faces3:\n",
    "        cv2.rectangle(img ,(x ,y) ,( x +w , y +h) ,(255 ,0 ,255) ,3)\n",
    "    for (x ,y ,w ,h) in faces4:\n",
    "        cv2.rectangle(img ,(x ,y) ,( x +w , y +h) ,( 0,0 ,255) ,3)\n",
    "    \n",
    "    cv2.imshow(\"Detected_Frame\" ,img)\n",
    "\n",
    "    k=cv2.waitKey(30)\n",
    "    a=a+1\n",
    "    if k==ord('q'):     # press 'q' to quit\n",
    "        break\n",
    "\n",
    "video.release()\n",
    "cv2.destroyAllWindows()\n"
   ]
  },
  {
   "cell_type": "code",
   "execution_count": null,
   "metadata": {},
   "outputs": [],
   "source": []
  },
  {
   "cell_type": "code",
   "execution_count": null,
   "metadata": {},
   "outputs": [],
   "source": []
  },
  {
   "cell_type": "code",
   "execution_count": null,
   "metadata": {},
   "outputs": [],
   "source": []
  },
  {
   "cell_type": "code",
   "execution_count": null,
   "metadata": {},
   "outputs": [],
   "source": []
  }
 ],
 "metadata": {
  "kernelspec": {
   "display_name": "DARKTRACE",
   "language": "python",
   "name": "darktrace"
  },
  "language_info": {
   "codemirror_mode": {
    "name": "ipython",
    "version": 3
   },
   "file_extension": ".py",
   "mimetype": "text/x-python",
   "name": "python",
   "nbconvert_exporter": "python",
   "pygments_lexer": "ipython3",
   "version": "3.6.9"
  }
 },
 "nbformat": 4,
 "nbformat_minor": 2
}
